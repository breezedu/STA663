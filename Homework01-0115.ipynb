{
 "cells": [
  {
   "cell_type": "markdown",
   "metadata": {},
   "source": [
    "**Due: 4 PM on Wednesday, 20 Jan 2016**"
   ]
  },
  {
   "cell_type": "markdown",
   "metadata": {},
   "source": [
    "Instructions\n",
    "-----\n",
    "\n",
    "Write code to solve all 10 problems. Each problem is worth 10 points. The grading rubric includes the following criteria:\n",
    "\n",
    "- Correctness\n",
    "- Readability\n",
    "- Efficiency\n",
    "\n",
    "Please do not copy answwrs found on the web or elsewhere as it will not benefit your learning. Searching the web for general references etc is OK. Some discussion with friends is fine too - but again, do not just copy thier answer. \n",
    "\n",
    "**Honor Code: By submitting this assignment, you certify that this is your origianl work.**"
   ]
  },
  {
   "cell_type": "code",
   "execution_count": 1,
   "metadata": {
    "collapsed": false
   },
   "outputs": [
    {
     "name": "stdout",
     "output_type": "stream",
     "text": [
      "Overwriting ../data/animals.txt\n"
     ]
    }
   ],
   "source": [
    "%%file ../data/animals.txt\n",
    "name|species|age|weight\n",
    "arun|cat|5|7.3\n",
    "bob|bird|2|1.5\n",
    "coco|cat|2|5.5\n",
    "dumbo|elephant|23|454\n",
    "elmo|dog|5|11\n",
    "fido|dog|3|24.5\n",
    "gumba|bird|2|2.7"
   ]
  },
  {
   "cell_type": "markdown",
   "metadata": {},
   "source": [
    "**Q1.** Using only the Unix shell commands, find only rows showing the 3rd, 4th and 5th heaviest animals in the file animals.txt."
   ]
  },
  {
   "cell_type": "code",
   "execution_count": 152,
   "metadata": {
    "collapsed": false
   },
   "outputs": [
    {
     "name": "stdout",
     "output_type": "stream",
     "text": [
      "sort -t $'|' -k 4,4 -V -r ../data/animals.txt > animals.sorted.txt | head -n6 animals.sorted.txt | tail -n3\n",
      "[]\n"
     ]
    }
   ],
   "source": [
    "# import os\n",
    "# com_st = \"sort -t $\\'|\\' -k 4,4 -V -r ../data/animals.txt > animals.sorted.txt | head -n6 animals.sorted.txt | tail -n3\"\n",
    "# print( com_st )\n",
    "# retvalue = os.popen(com_st).readlines()\n",
    "# retvalue = os.popen(\" head -n6 animals.sorted.txt | tail -n3 \").readlines()\n",
    "# print( retvalue )\n",
    "\n",
    "$ sort -t $'|' -k 4,4 -V -r animals.txt > animals.sorted.txt\n",
    "\n",
    "$ head -n6 animals.sorted.txt | tail -n3\n",
    "\n",
    "## -b, --ignore-leading-blanks, -r, --reverse-V, --version-sort natural sort of (version) numbers within text"
   ]
  },
  {
   "cell_type": "markdown",
   "metadata": {},
   "source": [
    "**Q2.** Using only the Unix shell commands, find all files in the current directory and all its subdirecotries that contain the word elephant regardless of case."
   ]
  },
  {
   "cell_type": "code",
   "execution_count": null,
   "metadata": {
    "collapsed": true
   },
   "outputs": [],
   "source": [
    "$ pwd\n",
    "\n",
    "$ grep -Ril \"elephant\" \n",
    "\n",
    "\n",
    "\n"
   ]
  },
  {
   "cell_type": "markdown",
   "metadata": {},
   "source": [
    "**Q3.** Using only the Python standard library, find only rows showing the 3rd, 4th and 5th heaviest animals in the file animals.txt"
   ]
  },
  {
   "cell_type": "code",
   "execution_count": 2,
   "metadata": {
    "collapsed": false
   },
   "outputs": [
    {
     "name": "stdout",
     "output_type": "stream",
     "text": [
      " 1st read from animal.txt\n",
      "\n",
      " 2nd remove the title line in the tuple\n",
      "\n",
      " 3rd transfer weight strings to float\n",
      "\n",
      " 4th Sorted animals according to their weight:\n",
      "['bob', 'bird', 2.0, 1.5]\n",
      "['gumba', 'bird', 2.0, 2.7]\n",
      "['coco', 'cat', 2.0, 5.5]\n",
      "['arun', 'cat', 5.0, 7.3]\n",
      "['elmo', 'dog', 5.0, 11.0]\n",
      "['fido', 'dog', 3.0, 24.5]\n",
      "['dumbo', 'elephant', 23.0, 454.0]\n",
      "\n",
      " 5th The 3rd to 5th weight animals:\n",
      "['elmo', 'dog', 5.0, 11.0]\n",
      "['arun', 'cat', 5.0, 7.3]\n",
      "['coco', 'cat', 2.0, 5.5]\n"
     ]
    }
   ],
   "source": [
    "## initial animal_data, a tuple and read-in data from animals.txt\n",
    "animal_data = [] \n",
    "for line in open('../data/animals.txt'):\n",
    "    animal_data.append( tuple(line.strip().split('|')))\n",
    "\n",
    "## print animal_data\n",
    "print(\" 1st read from animal.txt\")\n",
    "\n",
    "## remove/pop the first tuple, the title\n",
    "print(\"\\n 2nd remove the title line in the tuple\")\n",
    "animal_data.pop(0)\n",
    "\n",
    "## transfer weight strings to float\n",
    "#temp = []\n",
    "print(\"\\n 3rd transfer weight strings to float\")\n",
    "Animal_tuple = []\n",
    "for i in animal_data:\n",
    "    temp = []\n",
    "    temp.append(i[0])\n",
    "    temp.append(i[1])\n",
    "    temp.append(float(i[2]))\n",
    "    temp.append( float(i[3]) )\n",
    "    Animal_tuple.append(temp)\n",
    "\n",
    "## sort animal_data\n",
    "##print(\"\\n 4th, sort according to the weights\")\n",
    "\n",
    "from operator import itemgetter\n",
    "Animal_tuple.sort(key = itemgetter(3))\n",
    "\n",
    "## print the 3rd, 4th and 5th heaviest animals\n",
    "## count total number of animals in the tuples\n",
    "count = len(Animal_tuple)\n",
    "print(\"\\n 4th Sorted animals according to their weight:\")\n",
    "for i in range(0, count):\n",
    "    print( Animal_tuple[i])\n",
    "    \n",
    "print(\"\\n 5th The 3rd to 5th weight animals:\")\n",
    "\n",
    "for i in range(3, 6):\n",
    "    print( Animal_tuple[0-i] )\n"
   ]
  },
  {
   "cell_type": "markdown",
   "metadata": {},
   "source": [
    "**Q4.** Using only the Python standard library, find all files in the current directory and all its sub-directories that contain the word `elephant` regardless of case."
   ]
  },
  {
   "cell_type": "code",
   "execution_count": 3,
   "metadata": {
    "collapsed": false
   },
   "outputs": [
    {
     "name": "stdout",
     "output_type": "stream",
     "text": [
      "['.ipynb_checkpoints/Homework01-Copy1-checkpoint.ipynb\\n', 'Homework01.ipynb\\n', 'Homework01-Copy1.ipynb\\n']\n"
     ]
    }
   ],
   "source": [
    "\n",
    "import os\n",
    "retvalue = os.popen(\"grep -Ril \\\"elephant\\\" \").readlines()\n",
    "print( retvalue )\n"
   ]
  },
  {
   "cell_type": "markdown",
   "metadata": {},
   "source": [
    "**Q5.** Starting with `range(1, 20)`, make a list of the squares of each odd number in the following ways\n",
    "\n",
    "- With a for loop\n",
    "- Using a list comprehension\n",
    "- Using map and filter\n",
    "\n",
    "The answer should be [1, 9, 25, 49, 81, 121, 169, 225, 289, 361]"
   ]
  },
  {
   "cell_type": "code",
   "execution_count": 4,
   "metadata": {
    "collapsed": false
   },
   "outputs": [
    {
     "data": {
      "text/plain": [
       "[1, 9, 25, 49, 81, 121, 169, 225, 289, 361]"
      ]
     },
     "execution_count": 4,
     "metadata": {},
     "output_type": "execute_result"
    }
   ],
   "source": [
    "## initial a list\n",
    "squ_list = []\n",
    "\n",
    "for i in range(1, 20):\n",
    "    if i%2 != 0:\n",
    "        squ_list.append(i*i)\n",
    "\n",
    "squ_list\n",
    "\n",
    "\n"
   ]
  },
  {
   "cell_type": "markdown",
   "metadata": {},
   "source": [
    "**Q6.** If we list all the natural numbers below 10 that are multiples of 3 or 5, we get 3, 5, 6 and 9. The sum of these multiples is 23. (Euler problem #1)\n",
    "\n",
    "Write a program to find the sum of all the multiples of 3 or 5 below 1000.\n",
    "\n",
    "The answer sould be 233168."
   ]
  },
  {
   "cell_type": "code",
   "execution_count": 5,
   "metadata": {
    "collapsed": false
   },
   "outputs": [
    {
     "data": {
      "text/plain": [
       "233168"
      ]
     },
     "execution_count": 5,
     "metadata": {},
     "output_type": "execute_result"
    }
   ],
   "source": [
    "sum = 0;\n",
    "for i in range(1, 1000):\n",
    "    if (i%3 == 0) or (i%5 == 0):\n",
    "        sum += i\n",
    "        \n",
    "# print sum\n",
    "sum\n",
    "\n"
   ]
  },
  {
   "cell_type": "markdown",
   "metadata": {},
   "source": [
    "**Q7**. A palindromic number reads the same both ways. The largest palindrome made from the product of two 2-digit numbers is 9009 = 91 × 99.\n",
    "\n",
    "Write a program to find the largest palindrome made from the product of two 3-digit numbers. (Euler problem #4)\n",
    "\n",
    "The answer should be 580085 = 995 × 583,"
   ]
  },
  {
   "cell_type": "code",
   "execution_count": 6,
   "metadata": {
    "collapsed": false
   },
   "outputs": [
    {
     "name": "stdout",
     "output_type": "stream",
     "text": [
      "913 993 906609\n"
     ]
    }
   ],
   "source": [
    "max_pal = 1\n",
    "max_a = 1\n",
    "max_b = 1\n",
    "\n",
    "for a in range(100, 1000):\n",
    "    for b in range(100, 1000):\n",
    "        ab = a * b\n",
    "        if (ab > max_pal) and (str(ab) == str(ab)[::-1]) :\n",
    "           # print(ab, a, b)\n",
    "            max_pal = ab\n",
    "            max_a = a\n",
    "            max_b = b\n",
    "print(max_a, max_b, max_pal )  \n"
   ]
  },
  {
   "cell_type": "markdown",
   "metadata": {},
   "source": [
    "**Q8.** The sum of the squares of the first ten natural numbers is,\n",
    "$$\n",
    "1^2 + 2^2 + ... + 10^2 = 385\n",
    "$$\n",
    "The square of the sum of the first ten natural numbers is,\n",
    "$$\n",
    "(1 + 2 + ... + 10)^2 = 55^2 = 3025\n",
    "$$\n",
    "Hence the difference between the sum of the squares of the first ten natural numbers and the square of the sum is 3025 − 385 = 2640.\n",
    "\n",
    "Write a program to find the difference between the sum of the squares of the first one hundred natural numbers and the square of the sum. (Euler problem #6)\n",
    "\n",
    "The answer should be 25164150."
   ]
  },
  {
   "cell_type": "code",
   "execution_count": 7,
   "metadata": {
    "collapsed": false
   },
   "outputs": [
    {
     "data": {
      "text/plain": [
       "25164150"
      ]
     },
     "execution_count": 7,
     "metadata": {},
     "output_type": "execute_result"
    }
   ],
   "source": [
    "sum = 0\n",
    "sum_squ = 0\n",
    "squ_sum = 0\n",
    "\n",
    "# get the sum and sum of squares from 1 to 100\n",
    "for i in range(1, 101):\n",
    "    sum_squ += i*i\n",
    "    sum += i\n",
    "\n",
    "# get the square of sum 1-100\n",
    "squ_sum = sum * sum\n",
    "\n",
    "squ_sum - sum_squ\n",
    "\n"
   ]
  },
  {
   "cell_type": "markdown",
   "metadata": {},
   "source": [
    "**Q9.** Problem 8: The four adjacent digits in the 1000-digit number that have the greatest product are 9 × 9 × 8 × 9 = 5832.\n",
    "```\n",
    "73167176531330624919225119674426574742355349194934\n",
    "96983520312774506326239578318016984801869478851843\n",
    "85861560789112949495459501737958331952853208805511\n",
    "12540698747158523863050715693290963295227443043557\n",
    "66896648950445244523161731856403098711121722383113\n",
    "62229893423380308135336276614282806444486645238749\n",
    "30358907296290491560440772390713810515859307960866\n",
    "70172427121883998797908792274921901699720888093776\n",
    "65727333001053367881220235421809751254540594752243\n",
    "52584907711670556013604839586446706324415722155397\n",
    "53697817977846174064955149290862569321978468622482\n",
    "83972241375657056057490261407972968652414535100474\n",
    "82166370484403199890008895243450658541227588666881\n",
    "16427171479924442928230863465674813919123162824586\n",
    "17866458359124566529476545682848912883142607690042\n",
    "24219022671055626321111109370544217506941658960408\n",
    "07198403850962455444362981230987879927244284909188\n",
    "84580156166097919133875499200524063689912560717606\n",
    "05886116467109405077541002256983155200055935729725\n",
    "71636269561882670428252483600823257530420752963450\n",
    "```\n",
    "Write a program to find the thirteen adjacent digits in the 1000-digit number that have the greatest product. What is the value of this product? (Euler problem #8)\n",
    "\n",
    "The answer shoud be 23514624000."
   ]
  },
  {
   "cell_type": "code",
   "execution_count": 3,
   "metadata": {
    "collapsed": false
   },
   "outputs": [
    {
     "name": "stdout",
     "output_type": "stream",
     "text": [
      "1000\n",
      "23514624000\n"
     ]
    }
   ],
   "source": [
    "str_ori = \"\"\n",
    "str_ori += \"73167176531330624919225119674426574742355349194934969835203127745063\"\n",
    "str_ori += \"2623957831801698480186947885184385861560789112949495459501737958331952853208805\"\n",
    "str_ori += \"5111254069874715852386305071569329096329522744304355766896648950445244523161731\"\n",
    "str_ori += \"8564030987111217223831136222989342338030813533627661428280644448664523874930358\"\n",
    "str_ori += \"9072962904915604407723907138105158593079608667017242712188399879790879227492190\"\n",
    "str_ori += \"1699720888093776657273330010533678812202354218097512545405947522435258490771167\"\n",
    "str_ori += \"0556013604839586446706324415722155397536978179778461740649551492908625693219784\"\n",
    "str_ori += \"6862248283972241375657056057490261407972968652414535100474821663704844031998900\"\n",
    "str_ori += \"0889524345065854122758866688116427171479924442928230863465674813919123162824586\"\n",
    "str_ori += \"1786645835912456652947654568284891288314260769004224219022671055626321111109370\"\n",
    "str_ori += \"5442175069416589604080719840385096245544436298123098787992724428490918884580156\"\n",
    "str_ori += \"1660979191338754992005240636899125607176060588611646710940507754100225698315520\"\n",
    "str_ori += \"005593572972571636269561882670428252483600823257530420752963450\"\n",
    "\n",
    "\n",
    "str_list = list(str_ori)\n",
    "\n",
    "#int_list = map(int, str_list)\n",
    "# print( int_list )\n",
    "\n",
    "length = len(str_list)\n",
    "print(length)\n",
    "\n",
    "int_list = []\n",
    "for i in range(0, length):\n",
    "    int_list.append ( int(str_list[i]) )\n",
    "    \n",
    "max = 1\n",
    "for i in range(0, length-13):\n",
    "    temp_max = 1\n",
    "    for j in range(i, i+13):\n",
    "        temp_max *= int_list[j]\n",
    "        if temp_max > max:\n",
    "            max = temp_max\n",
    "        \n",
    "print(max)\n"
   ]
  },
  {
   "cell_type": "markdown",
   "metadata": {},
   "source": [
    "**Q10.** A Pythagorean triplet is a set of three natural numbers, a < b < c, for which,\n",
    "\n",
    "$$\n",
    "a^2 + b^2 = c^2\n",
    "$$\n",
    "For example, $3^2 + 4^2 = 9 + 16 = 25 = 5^2$\n",
    "\n",
    "There exists exactly one Pythagorean triplet for which a + b + c = 1000.\n",
    "Write a program to find the product abc. (Euler problem #9)\n",
    "\n",
    "The answer should be (200, 375, 425, 31875000)."
   ]
  },
  {
   "cell_type": "code",
   "execution_count": 106,
   "metadata": {
    "collapsed": false
   },
   "outputs": [
    {
     "name": "stdout",
     "output_type": "stream",
     "text": [
      "200 375 425\n",
      "375 200 425\n"
     ]
    }
   ],
   "source": [
    "\n",
    "for a in range(1, 1001):\n",
    "    for b in range(1, 1000-a):\n",
    "        c = 1000 - a - b\n",
    "        \n",
    "        if a*a + b*b == c*c :\n",
    "            print(a, b, c)\n",
    "            break\n",
    "\n",
    "\n",
    "\n",
    "\n"
   ]
  }
 ],
 "metadata": {
  "kernelspec": {
   "display_name": "Python 3",
   "language": "python",
   "name": "python3"
  },
  "language_info": {
   "codemirror_mode": {
    "name": "ipython",
    "version": 3
   },
   "file_extension": ".py",
   "mimetype": "text/x-python",
   "name": "python",
   "nbconvert_exporter": "python",
   "pygments_lexer": "ipython3",
   "version": "3.4.3"
  }
 },
 "nbformat": 4,
 "nbformat_minor": 0
}
