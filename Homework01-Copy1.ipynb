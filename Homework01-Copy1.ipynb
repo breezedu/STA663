{
 "cells": [
  {
   "cell_type": "markdown",
   "metadata": {},
   "source": [
    "**Due: 4 PM on Wednesday, 20 Jan 2016**"
   ]
  },
  {
   "cell_type": "markdown",
   "metadata": {},
   "source": [
    "Instructions\n",
    "-----\n",
    "\n",
    "Write code to solve all 10 problems. Each problem is worth 10 points. The grading rubric includes the following criteria:\n",
    "\n",
    "- Correctness\n",
    "- Readability\n",
    "- Efficiency\n",
    "\n",
    "Please do not copy answwrs found on the web or elsewhere as it will not benefit your learning. Searching the web for general references etc is OK. Some discussion with friends is fine too - but again, do not just copy thier answer. \n",
    "\n",
    "**Honor Code: By submitting this assignment, you certify that this is your origianl work.**"
   ]
  },
  {
   "cell_type": "code",
   "execution_count": 1,
   "metadata": {
    "collapsed": false
   },
   "outputs": [
    {
     "name": "stdout",
     "output_type": "stream",
     "text": [
      "Overwriting ../data/animals.txt\n"
     ]
    }
   ],
   "source": [
    "%%file ../data/animals.txt\n",
    "name|species|age|weight\n",
    "arun|cat|5|7.3\n",
    "bob|bird|2|1.5\n",
    "coco|cat|2|5.5\n",
    "dumbo|elephant|23|454\n",
    "elmo|dog|5|11\n",
    "fido|dog|3|24.5\n",
    "gumba|bird|2|2.7"
   ]
  },
  {
   "cell_type": "markdown",
   "metadata": {},
   "source": [
    "**Q1.** Using only the Unix shell commands, find only rows showing the 3rd, 4th and 5th heaviest animals in the file animals.txt."
   ]
  },
  {
   "cell_type": "code",
   "execution_count": 4,
   "metadata": {
    "collapsed": false
   },
   "outputs": [],
   "source": [
    "$ sort -t $'|' -k 4,4 -V -r animals.txt > animals.sorted.txt\n",
    "\n",
    "$ head -n6 animals.sorted.txt | tail -n3\n",
    "\n",
    "## -b, --ignore-leading-blanks, -r, --reverse-V, --version-sort natural sort of (version) numbers within text"
   ]
  },
  {
   "cell_type": "markdown",
   "metadata": {},
   "source": [
    "**Q2.** Using only the Unix shell commands, find all files in the current directory and all its subdirecotries that contain the word elephant regardless of case."
   ]
  },
  {
   "cell_type": "code",
   "execution_count": null,
   "metadata": {
    "collapsed": true
   },
   "outputs": [],
   "source": [
    "$ pwd\n",
    "/d/GitHubRepositories/sta-663-2016\n",
    "\n",
    "Jeff@ThinkStation MINGW64 /d/GitHubRepositories/sta-663-2016 (master)\n",
    "$ grep -Ril \"elephant\" /d/GitHubRepositories/sta-663-2016/\n",
    "\n",
    "\n",
    "\n"
   ]
  },
  {
   "cell_type": "markdown",
   "metadata": {},
   "source": [
    "**Q3.** Using only the Python standard library, find only rows showing the 3rd, 4th and 5th heaviest animals in the file animals.txt"
   ]
  },
  {
   "cell_type": "code",
   "execution_count": 69,
   "metadata": {
    "collapsed": false
   },
   "outputs": [
    {
     "name": "stdout",
     "output_type": "stream",
     "text": [
      "read from animal.txt\n",
      "[('name', 'species', 'age', 'weight'), ('arun', 'cat', '5', '7.3'), ('bob', 'bird', '2', '1.5'), ('coco', 'cat', '2', '5.5'), ('dumbo', 'elephant', '23', '454'), ('elmo', 'dog', '5', '11'), ('fido', 'dog', '3', '24.5'), ('gumba', 'bird', '2', '2.7')]\n",
      "remove the title line tuple\n",
      "animal_data in the tuple\n",
      "[['arun', 'cat', 5.0, 7.3], ['bob', 'bird', 2.0, 1.5], ['coco', 'cat', 2.0, 5.5], ['dumbo', 'elephant', 23.0, 454.0], ['elmo', 'dog', 5.0, 11.0], ['fido', 'dog', 3.0, 24.5], ['gumba', 'bird', 2.0, 2.7]]\n",
      "sorting:\n",
      "after sorting.\n",
      "[['bob', 'bird', 2.0, 1.5], ['gumba', 'bird', 2.0, 2.7], ['coco', 'cat', 2.0, 5.5], ['arun', 'cat', 5.0, 7.3], ['elmo', 'dog', 5.0, 11.0], ['fido', 'dog', 3.0, 24.5], ['dumbo', 'elephant', 23.0, 454.0]]\n",
      "['coco', 'cat', 2.0, 5.5]\n",
      "['arun', 'cat', 5.0, 7.3]\n",
      "['elmo', 'dog', 5.0, 11.0]\n"
     ]
    }
   ],
   "source": [
    "animal_data = [] \n",
    "for line in open('../data/animals.txt'):\n",
    "    animal_data.append( tuple(line.strip().split('|')))\n",
    "\n",
    "## print animal_data\n",
    "print(\"read from animal.txt\")\n",
    "print(animal_data)\n",
    "\n",
    "## remove/pop the first tuple, the title\n",
    "print(\"remove the title line tuple\")\n",
    "animal_data.pop(0)\n",
    "\n",
    "##print animal_data\n",
    "print(\"animal_data in the tuple\")\n",
    "animal_data\n",
    "\n",
    "\n",
    "## transfer weight strings to float\n",
    "#temp = []\n",
    "Animal_tuple = []\n",
    "for i in animal_data:\n",
    "    temp = []\n",
    "    temp.append(i[0])\n",
    "    temp.append(i[1])\n",
    "    temp.append(float(i[2]))\n",
    "    temp.append( float(i[3]) )\n",
    "    Animal_tuple.append(temp)\n",
    "    \n",
    "#print(\"temp_animal_data\")\n",
    "print(Animal_tuple)\n",
    "Animal_tuple\n",
    "\n",
    "## sort animal_data\n",
    "from operator import itemgetter\n",
    "Animal_tuple.sort(key = itemgetter(3))\n",
    "\n",
    "## print the 3rd, 4th and 5th heaviest animals\n",
    "## count total number of animals in the tuples\n",
    "count = len(Animal_tuple)\n",
    "\n",
    "for i in range(count -5, count-2):\n",
    "    print( Animal_tuple[i] )\n"
   ]
  },
  {
   "cell_type": "markdown",
   "metadata": {},
   "source": [
    "**Q4.** Using only the Python standard library, find all files in the current directory and all its sub-directories that contain the word `elephant` regardless of case."
   ]
  },
  {
   "cell_type": "code",
   "execution_count": null,
   "metadata": {
    "collapsed": true
   },
   "outputs": [],
   "source": [
    "\n",
    "\n",
    "\n",
    "\n"
   ]
  },
  {
   "cell_type": "markdown",
   "metadata": {},
   "source": [
    "**Q5.** Starting with `range(1, 20)`, make a list of the squares of each odd number in the following ways\n",
    "\n",
    "- With a for loop\n",
    "- Using a list comprehension\n",
    "- Using map and filter\n",
    "\n",
    "The answer should be [1, 9, 25, 49, 81, 121, 169, 225, 289, 361]"
   ]
  },
  {
   "cell_type": "code",
   "execution_count": null,
   "metadata": {
    "collapsed": true
   },
   "outputs": [],
   "source": [
    "\n",
    "\n",
    "\n",
    "\n"
   ]
  },
  {
   "cell_type": "markdown",
   "metadata": {},
   "source": [
    "**Q6.** If we list all the natural numbers below 10 that are multiples of 3 or 5, we get 3, 5, 6 and 9. The sum of these multiples is 23. (Euler problem #1)\n",
    "\n",
    "Write a program to find the sum of all the multiples of 3 or 5 below 1000.\n",
    "\n",
    "The answer sould be 233168."
   ]
  },
  {
   "cell_type": "code",
   "execution_count": null,
   "metadata": {
    "collapsed": true
   },
   "outputs": [],
   "source": [
    "\n",
    "\n",
    "\n",
    "\n"
   ]
  },
  {
   "cell_type": "markdown",
   "metadata": {},
   "source": [
    "**Q7**. A palindromic number reads the same both ways. The largest palindrome made from the product of two 2-digit numbers is 9009 = 91 × 99.\n",
    "\n",
    "Write a program to find the largest palindrome made from the product of two 3-digit numbers. (Euler problem #4)\n",
    "\n",
    "The answer should be 580085 = 995 × 583,"
   ]
  },
  {
   "cell_type": "code",
   "execution_count": null,
   "metadata": {
    "collapsed": true
   },
   "outputs": [],
   "source": [
    "\n",
    "\n",
    "\n",
    "\n"
   ]
  },
  {
   "cell_type": "markdown",
   "metadata": {},
   "source": [
    "**Q8.** The sum of the squares of the first ten natural numbers is,\n",
    "$$\n",
    "1^2 + 2^2 + ... + 10^2 = 385\n",
    "$$\n",
    "The square of the sum of the first ten natural numbers is,\n",
    "$$\n",
    "(1 + 2 + ... + 10)^2 = 55^2 = 3025\n",
    "$$\n",
    "Hence the difference between the sum of the squares of the first ten natural numbers and the square of the sum is 3025 − 385 = 2640.\n",
    "\n",
    "Write a program to find the difference between the sum of the squares of the first one hundred natural numbers and the square of the sum. (Euler problem #6)\n",
    "\n",
    "The answer should be 25164150."
   ]
  },
  {
   "cell_type": "code",
   "execution_count": null,
   "metadata": {
    "collapsed": true
   },
   "outputs": [],
   "source": [
    "\n",
    "\n",
    "\n",
    "\n"
   ]
  },
  {
   "cell_type": "markdown",
   "metadata": {},
   "source": [
    "**Q9.** Problem 8: The four adjacent digits in the 1000-digit number that have the greatest product are 9 × 9 × 8 × 9 = 5832.\n",
    "```\n",
    "73167176531330624919225119674426574742355349194934\n",
    "96983520312774506326239578318016984801869478851843\n",
    "85861560789112949495459501737958331952853208805511\n",
    "12540698747158523863050715693290963295227443043557\n",
    "66896648950445244523161731856403098711121722383113\n",
    "62229893423380308135336276614282806444486645238749\n",
    "30358907296290491560440772390713810515859307960866\n",
    "70172427121883998797908792274921901699720888093776\n",
    "65727333001053367881220235421809751254540594752243\n",
    "52584907711670556013604839586446706324415722155397\n",
    "53697817977846174064955149290862569321978468622482\n",
    "83972241375657056057490261407972968652414535100474\n",
    "82166370484403199890008895243450658541227588666881\n",
    "16427171479924442928230863465674813919123162824586\n",
    "17866458359124566529476545682848912883142607690042\n",
    "24219022671055626321111109370544217506941658960408\n",
    "07198403850962455444362981230987879927244284909188\n",
    "84580156166097919133875499200524063689912560717606\n",
    "05886116467109405077541002256983155200055935729725\n",
    "71636269561882670428252483600823257530420752963450\n",
    "```\n",
    "Write a program to find the thirteen adjacent digits in the 1000-digit number that have the greatest product. What is the value of this product? (Euler problem #8)\n",
    "\n",
    "The answer shoud be 23514624000."
   ]
  },
  {
   "cell_type": "code",
   "execution_count": null,
   "metadata": {
    "collapsed": true
   },
   "outputs": [],
   "source": [
    "\n",
    "\n",
    "\n",
    "\n"
   ]
  },
  {
   "cell_type": "markdown",
   "metadata": {},
   "source": [
    "**Q10.** A Pythagorean triplet is a set of three natural numbers, a < b < c, for which,\n",
    "\n",
    "$$\n",
    "a^2 + b^2 = c^2\n",
    "$$\n",
    "For example, $3^2 + 4^2 = 9 + 16 = 25 = 5^2$\n",
    "\n",
    "There exists exactly one Pythagorean triplet for which a + b + c = 1000.\n",
    "Write a program to find the product abc. (Euler problem #9)\n",
    "\n",
    "The answer should be (200, 375, 425, 31875000)."
   ]
  },
  {
   "cell_type": "code",
   "execution_count": null,
   "metadata": {
    "collapsed": true
   },
   "outputs": [],
   "source": [
    "\n",
    "\n",
    "\n",
    "\n"
   ]
  }
 ],
 "metadata": {
  "kernelspec": {
   "display_name": "Python 3",
   "language": "python",
   "name": "python3"
  },
  "language_info": {
   "codemirror_mode": {
    "name": "ipython",
    "version": 3
   },
   "file_extension": ".py",
   "mimetype": "text/x-python",
   "name": "python",
   "nbconvert_exporter": "python",
   "pygments_lexer": "ipython3",
   "version": "3.4.3"
  }
 },
 "nbformat": 4,
 "nbformat_minor": 0
}
